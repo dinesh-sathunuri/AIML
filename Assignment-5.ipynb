{
 "cells": [
  {
   "cell_type": "markdown",
   "metadata": {},
   "source": [
    "## CSE-221710302059-DINESH"
   ]
  },
  {
   "cell_type": "code",
   "execution_count": 2,
   "metadata": {},
   "outputs": [
    {
     "name": "stdout",
     "output_type": "stream",
     "text": [
      "you need another password yes(or)no   :yes\n",
      "peepcat_26\n",
      "you need another password yes(or)no   :yes\n",
      "weightcat~4\n",
      "you need another password yes(or)no   :no\n"
     ]
    }
   ],
   "source": [
    "from random import *\n",
    "import string\n",
    "list1=[\"own\",'consist','jog','peep','deliver','weight','tric','agree','detect']\n",
    "list2=[\"current\",\"morning\",\"monkey\",\"example\",'snakes','corona','cat','woman','pig','error']\n",
    "while True:\n",
    "    st=choice(list1)+choice(list2)+choice(string.punctuation)+str(randint(0,100))\n",
    "    s=input(\"you need another password yes(or)no   :\")\n",
    "    s=s.lower()\n",
    "    if s=='no':\n",
    "        break\n",
    "    elif s=='yes':\n",
    "        print(st)\n",
    "        continue\n",
    "    else:\n",
    "        print(\"enter yes or no\")"
   ]
  },
  {
   "cell_type": "code",
   "execution_count": null,
   "metadata": {},
   "outputs": [],
   "source": []
  }
 ],
 "metadata": {
  "kernelspec": {
   "display_name": "Python 3",
   "language": "python",
   "name": "python3"
  },
  "language_info": {
   "codemirror_mode": {
    "name": "ipython",
    "version": 3
   },
   "file_extension": ".py",
   "mimetype": "text/x-python",
   "name": "python",
   "nbconvert_exporter": "python",
   "pygments_lexer": "ipython3",
   "version": "3.7.3"
  }
 },
 "nbformat": 4,
 "nbformat_minor": 2
}
