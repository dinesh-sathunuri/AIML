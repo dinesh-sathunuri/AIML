{
 "cells": [
  {
   "cell_type": "code",
   "execution_count": 13,
   "metadata": {},
   "outputs": [
    {
     "name": "stdout",
     "output_type": "stream",
     "text": [
      "enter the nth value5\n"
     ]
    },
    {
     "data": {
      "text/plain": [
       "120"
      ]
     },
     "execution_count": 13,
     "metadata": {},
     "output_type": "execute_result"
    }
   ],
   "source": [
    "def fact(n):\n",
    "    if n==1:\n",
    "        return 1\n",
    "    else:\n",
    "        return (n * fact(n-1))\n",
    "    print(n)\n",
    "a=int(input(\"enter the nth value\"))\n",
    "fact(a)"
   ]
  },
  {
   "cell_type": "code",
   "execution_count": 12,
   "metadata": {},
   "outputs": [
    {
     "name": "stdout",
     "output_type": "stream",
     "text": [
      "enter the nth value5\n"
     ]
    },
    {
     "data": {
      "text/plain": [
       "3"
      ]
     },
     "execution_count": 12,
     "metadata": {},
     "output_type": "execute_result"
    }
   ],
   "source": [
    "def fib(n):\n",
    "    if n==1:\n",
    "        return 0\n",
    "    elif n==2:\n",
    "        return 1\n",
    "    else:\n",
    "        return (fib(n-1)+fib(n-2))\n",
    "    print(n)\n",
    "a=int(input(\"enter the nth value\"))\n",
    "fib(a)"
   ]
  },
  {
   "cell_type": "code",
   "execution_count": 1,
   "metadata": {},
   "outputs": [
    {
     "name": "stdout",
     "output_type": "stream",
     "text": [
      "6\n"
     ]
    }
   ],
   "source": [
    "list1=[1,2,3]\n",
    "sum=0\n",
    "for i in range(0,len(list1)):\n",
    "    sum+=list1[i]\n",
    "print(sum)"
   ]
  },
  {
   "cell_type": "code",
   "execution_count": 3,
   "metadata": {},
   "outputs": [
    {
     "name": "stdout",
     "output_type": "stream",
     "text": [
      "2\n",
      "4\n",
      "6\n",
      "8\n"
     ]
    }
   ],
   "source": [
    "list1=[1,2,3,4,5,6,7,8,9]\n",
    "for i in range(0,len(list1)):\n",
    "    if list1[i]%2==0:\n",
    "        print(list1[i])"
   ]
  },
  {
   "cell_type": "code",
   "execution_count": 4,
   "metadata": {},
   "outputs": [
    {
     "name": "stdout",
     "output_type": "stream",
     "text": [
      "smallest element 1 in index 8\n"
     ]
    }
   ],
   "source": [
    "list1=[9,2,3,4,5,6,7,8,1]\n",
    "s=list1[0]\n",
    "for i in range(1,len(list1)):\n",
    "    if list1[i]<s:\n",
    "        s=list1[i]\n",
    "        j=i\n",
    "print(\"smallest element\",s,\"in index\",j)"
   ]
  },
  {
   "cell_type": "code",
   "execution_count": 5,
   "metadata": {},
   "outputs": [
    {
     "name": "stdout",
     "output_type": "stream",
     "text": [
      "enter the stringlal\n",
      "palindrome\n"
     ]
    }
   ],
   "source": [
    "def pal(str):\n",
    "    if str==str[::-1]:\n",
    "        print(\"palindrome\")\n",
    "    else:\n",
    "        print(\"not palidrome\")\n",
    "s=input(\"enter the string\")\n",
    "pal(s)"
   ]
  },
  {
   "cell_type": "code",
   "execution_count": 8,
   "metadata": {},
   "outputs": [
    {
     "name": "stdout",
     "output_type": "stream",
     "text": [
      "even no: 4\n",
      "odd no: 5\n"
     ]
    }
   ],
   "source": [
    "list1=[1,2,3,4,5,6,7,8,9]\n",
    "ce=0\n",
    "co=0\n",
    "for i in range(0,len(list1)):\n",
    "    if list1[i]%2==0:\n",
    "        ce+=1\n",
    "    else:\n",
    "        co+=1\n",
    "print(\"even no:\",ce)\n",
    "print(\"odd no:\",co)"
   ]
  },
  {
   "cell_type": "code",
   "execution_count": 12,
   "metadata": {},
   "outputs": [
    {
     "name": "stdout",
     "output_type": "stream",
     "text": [
      "0 1 2 4 5 "
     ]
    }
   ],
   "source": [
    "for i in range(0,7):\n",
    "    if i==3 or i==6:\n",
    "        continue\n",
    "    else:\n",
    "        print(i,end=\" \")       "
   ]
  },
  {
   "cell_type": "code",
   "execution_count": 8,
   "metadata": {},
   "outputs": [
    {
     "name": "stdout",
     "output_type": "stream",
     "text": [
      "prime\n"
     ]
    }
   ],
   "source": [
    "def prime(n):\n",
    "    i=2\n",
    "    c=0\n",
    "    while i<n:\n",
    "        if n%i==0:\n",
    "            c=1\n",
    "            break\n",
    "        i+=1\n",
    "    if c==0:\n",
    "        print(\"prime\")\n",
    "    else:\n",
    "        print(\" not prime\")\n",
    "        \n",
    "prime(5)"
   ]
  },
  {
   "cell_type": "code",
   "execution_count": 14,
   "metadata": {},
   "outputs": [
    {
     "name": "stdout",
     "output_type": "stream",
     "text": [
      "enter the no12\n",
      "adam number\n"
     ]
    }
   ],
   "source": [
    "def adam(n):\n",
    "    return n*n;\n",
    "def reverse(x):\n",
    "    y=str(x)\n",
    "    return int(y[::-1])\n",
    "n=int(input(\"enter the no\"))\n",
    "r1=adam(n)\n",
    "r2=adam(reverse(n))\n",
    "if reverse(r1)==r2:\n",
    "    print(\"adam number\")\n",
    "else:\n",
    "    print(\"not a adam number\")"
   ]
  }
 ],
 "metadata": {
  "kernelspec": {
   "display_name": "Python 3",
   "language": "python",
   "name": "python3"
  },
  "language_info": {
   "codemirror_mode": {
    "name": "ipython",
    "version": 3
   },
   "file_extension": ".py",
   "mimetype": "text/x-python",
   "name": "python",
   "nbconvert_exporter": "python",
   "pygments_lexer": "ipython3",
   "version": "3.7.3"
  }
 },
 "nbformat": 4,
 "nbformat_minor": 2
}
