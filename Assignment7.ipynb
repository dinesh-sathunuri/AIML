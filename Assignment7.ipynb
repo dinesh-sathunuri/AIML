{
 "cells": [
  {
   "cell_type": "code",
   "execution_count": null,
   "metadata": {},
   "outputs": [],
   "source": [
    "# CSE-221710302056-MOHIT"
   ]
  },
  {
   "cell_type": "code",
   "execution_count": 67,
   "metadata": {},
   "outputs": [],
   "source": [
    "f1=open(\"first.txt\",\"r\")\n",
    "f2=open(\"second.txt\",\"w\")\n",
    "for i in f1:\n",
    "    f2.write(i)"
   ]
  },
  {
   "cell_type": "code",
   "execution_count": 72,
   "metadata": {},
   "outputs": [
    {
     "name": "stdout",
     "output_type": "stream",
     "text": [
      "\n",
      ".pleh ot evitom ro sgnileef sih tuoba thguoht t'ndah ehS\n",
      "\n",
      ".rehtie ,piks a rof evitom hcum toN\n",
      "\n",
      ".nopaew siht gnisu rof evitom lacitcarp a saw erehT\n",
      ".snoitca ruo ni evitom terces emos ,skees llits dna ,dnif ot detnaw ehS\n"
     ]
    }
   ],
   "source": [
    "f2=open(\"second.txt\",\"r\")\n",
    "for i in f2:\n",
    "    print(i[::-1])"
   ]
  },
  {
   "cell_type": "code",
   "execution_count": 66,
   "metadata": {},
   "outputs": [
    {
     "name": "stdout",
     "output_type": "stream",
     "text": [
      "1 She hadn't thought about his feelings or motive to help.\n",
      "\n",
      "2 Not much motive for a skip, either.\n",
      "\n",
      "3 There was a practical motive for using this weapon.\n",
      "\n",
      "4 She wanted to find, and still seeks, some secret motive in our actions.\n"
     ]
    }
   ],
   "source": [
    "f=open(\"first.txt\",\"r\")\n",
    "x=1\n",
    "for i in f:\n",
    "    print(x,i)\n",
    "    x+=1"
   ]
  },
  {
   "cell_type": "code",
   "execution_count": 40,
   "metadata": {},
   "outputs": [
    {
     "name": "stdout",
     "output_type": "stream",
     "text": [
      "True\n",
      "[2, 4, 6, 8]\n"
     ]
    }
   ],
   "source": [
    "def duplicates(l):\n",
    "    for i in range(len(l)):\n",
    "        if l[i] in l[i+1::]:\n",
    "            return True\n",
    "            break\n",
    "        else:\n",
    "            continue\n",
    "    return False\n",
    "def remove(l):\n",
    "    c=0\n",
    "    for i in range(len(l)):\n",
    "        if l[i] in l[:i]:\n",
    "            l[i]='*'\n",
    "            c+=1\n",
    "    for i in range(c):\n",
    "        l.remove('*')\n",
    "    return l\n",
    "list1=[2,4,4,6,8,4]\n",
    "f=duplicates(list1)\n",
    "print(f)\n",
    "if f==True:\n",
    "    print(remove(list1))"
   ]
  },
  {
   "cell_type": "code",
   "execution_count": 33,
   "metadata": {},
   "outputs": [
    {
     "name": "stdout",
     "output_type": "stream",
     "text": [
      "30\n",
      "-10\n",
      "0.5\n",
      "10\n",
      "200\n"
     ]
    }
   ],
   "source": [
    "from fraction import *\n",
    "print(add(10,20))\n",
    "print(sub(10,20))\n",
    "print(div(10,20))\n",
    "print(mod(10,20))\n",
    "print(mul(10,20))"
   ]
  },
  {
   "cell_type": "code",
   "execution_count": 28,
   "metadata": {},
   "outputs": [
    {
     "data": {
      "text/plain": [
       "False"
      ]
     },
     "execution_count": 28,
     "metadata": {},
     "output_type": "execute_result"
    }
   ],
   "source": [
    "def permutation(l1,l2):\n",
    "    for i in range(len(l1)):\n",
    "        c=0\n",
    "        for j in range(len(l2)):\n",
    "            if l1[i]==l2[j]:\n",
    "                del l2[j]\n",
    "                c=0\n",
    "                break\n",
    "            else:\n",
    "                c=1\n",
    "        if c==1:\n",
    "            return False\n",
    "    return True\n",
    "list1=[1,1,2]\n",
    "list2=[2,2,1]\n",
    "permutation(list1,list2)"
   ]
  }
 ],
 "metadata": {
  "kernelspec": {
   "display_name": "Python 3",
   "language": "python",
   "name": "python3"
  },
  "language_info": {
   "codemirror_mode": {
    "name": "ipython",
    "version": 3
   },
   "file_extension": ".py",
   "mimetype": "text/x-python",
   "name": "python",
   "nbconvert_exporter": "python",
   "pygments_lexer": "ipython3",
   "version": "3.7.3"
  }
 },
 "nbformat": 4,
 "nbformat_minor": 2
}
